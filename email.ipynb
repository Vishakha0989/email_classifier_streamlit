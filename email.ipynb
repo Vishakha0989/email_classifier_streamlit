{
 "cells": [
  {
   "cell_type": "code",
   "execution_count": 1,
   "metadata": {},
   "outputs": [],
   "source": [
    "import os\n",
    "import requests\n",
    "import tarfile\n",
    "import zipfile\n",
    "import pandas as pd\n",
    "from sklearn.model_selection import train_test_split\n",
    "from sklearn.feature_extraction.text import TfidfVectorizer\n",
    "from sklearn.metrics import classification_report\n",
    "import joblib\n",
    "from sklearn.linear_model import LogisticRegression"
   ]
  },
  {
   "cell_type": "code",
   "execution_count": 2,
   "metadata": {},
   "outputs": [],
   "source": [
    "# URLs for datasets\n",
    "SPAMASSASSIN_SPAM_URL = 'https://spamassassin.apache.org/old/publiccorpus/20030228_spam.tar.bz2'\n",
    "SPAMASSASSIN_HAM_URL = 'https://spamassassin.apache.org/old/publiccorpus/20030228_easy_ham.tar.bz2'\n",
    "SMS_SPAM_URL = 'https://archive.ics.uci.edu/ml/machine-learning-databases/00228/smsspamcollection.zip'\n",
    "\n",
    "# Directories for extracted data\n",
    "DATA_DIR = 'combined_spam_data'\n",
    "SPAMASSASSIN_DIR = os.path.join(DATA_DIR, 'spamassassin')\n",
    "SMS_DIR = os.path.join(DATA_DIR, 'sms_spam')"
   ]
  },
  {
   "cell_type": "code",
   "execution_count": 3,
   "metadata": {},
   "outputs": [],
   "source": [
    "# Function to download and extract tar.bz2 datasets\n",
    "def download_and_extract_tar(url, extract_to):\n",
    "    response = requests.get(url, stream=True)\n",
    "    tar_path = os.path.join(extract_to, os.path.basename(url))\n",
    "    os.makedirs(extract_to, exist_ok=True)  # Ensure directory exists\n",
    "    with open(tar_path, 'wb') as file:\n",
    "        for chunk in response.iter_content(chunk_size=1024):\n",
    "            if chunk:\n",
    "                file.write(chunk)\n",
    "    with tarfile.open(tar_path, 'r:bz2') as tar:\n",
    "        tar.extractall(path=extract_to)\n",
    "    os.remove(tar_path)"
   ]
  },
  {
   "cell_type": "code",
   "execution_count": 4,
   "metadata": {},
   "outputs": [],
   "source": [
    "# Function to download and extract zip datasets\n",
    "def download_and_extract_zip(url, extract_to):\n",
    "    response = requests.get(url, stream=True)\n",
    "    zip_path = os.path.join(extract_to, os.path.basename(url))\n",
    "    os.makedirs(extract_to, exist_ok=True)  # Ensure directory exists\n",
    "    with open(zip_path, 'wb') as file:\n",
    "        for chunk in response.iter_content(chunk_size=1024):\n",
    "            if chunk:\n",
    "                file.write(chunk)\n",
    "    with zipfile.ZipFile(zip_path, 'r') as zip_ref:\n",
    "        zip_ref.extractall(extract_to)\n",
    "    os.remove(zip_path)"
   ]
  },
  {
   "cell_type": "code",
   "execution_count": 5,
   "metadata": {},
   "outputs": [],
   "source": [
    "# Create data directory\n",
    "os.makedirs(DATA_DIR, exist_ok=True)\n",
    "\n",
    "# Download and extract SpamAssassin datasets\n",
    "download_and_extract_tar(SPAMASSASSIN_SPAM_URL, SPAMASSASSIN_DIR)\n",
    "download_and_extract_tar(SPAMASSASSIN_HAM_URL, SPAMASSASSIN_DIR)\n",
    "\n",
    "# Download and extract SMS Spam dataset\n",
    "download_and_extract_zip(SMS_SPAM_URL, SMS_DIR)"
   ]
  },
  {
   "cell_type": "code",
   "execution_count": 6,
   "metadata": {},
   "outputs": [],
   "source": [
    "# Function to load emails from a directory\n",
    "def load_emails_from_directory(directory):\n",
    "    emails = []\n",
    "    for root, dirs, files in os.walk(directory):\n",
    "        for file in files:\n",
    "            with open(os.path.join(root, file), 'r', encoding='latin-1') as f:\n",
    "                emails.append(f.read())\n",
    "    return emails"
   ]
  },
  {
   "cell_type": "code",
   "execution_count": 7,
   "metadata": {},
   "outputs": [],
   "source": [
    "# Load SpamAssassin dataset\n",
    "spam_emails = load_emails_from_directory(os.path.join(SPAMASSASSIN_DIR, 'spam'))\n",
    "ham_emails = load_emails_from_directory(os.path.join(SPAMASSASSIN_DIR, 'easy_ham'))\n",
    "\n",
    "# Load SMS Spam dataset\n",
    "sms_data_path = os.path.join(SMS_DIR, 'SMSSpamCollection')\n",
    "sms_data = pd.read_csv(sms_data_path, sep='\\t', names=['label', 'message'])\n",
    "sms_data['label'] = sms_data['label'].map({'ham': 0, 'spam': 1})"
   ]
  },
  {
   "cell_type": "code",
   "execution_count": 8,
   "metadata": {},
   "outputs": [],
   "source": [
    "# Create DataFrame for SpamAssassin data\n",
    "spamassassin_data = pd.DataFrame({\n",
    "    'message': spam_emails + ham_emails,\n",
    "    'label': [1]*len(spam_emails) + [0]*len(ham_emails)\n",
    "})\n",
    "\n",
    "# Combine both datasets\n",
    "combined_data = pd.concat([spamassassin_data, sms_data[['message', 'label']]], ignore_index=True)\n",
    "\n",
    "# Shuffle the data\n",
    "combined_data = combined_data.sample(frac=1).reset_index(drop=True)"
   ]
  },
  {
   "cell_type": "code",
   "execution_count": 9,
   "metadata": {},
   "outputs": [
    {
     "data": {
      "text/html": [
       "<div>\n",
       "<style scoped>\n",
       "    .dataframe tbody tr th:only-of-type {\n",
       "        vertical-align: middle;\n",
       "    }\n",
       "\n",
       "    .dataframe tbody tr th {\n",
       "        vertical-align: top;\n",
       "    }\n",
       "\n",
       "    .dataframe thead th {\n",
       "        text-align: right;\n",
       "    }\n",
       "</style>\n",
       "<table border=\"1\" class=\"dataframe\">\n",
       "  <thead>\n",
       "    <tr style=\"text-align: right;\">\n",
       "      <th></th>\n",
       "      <th>message</th>\n",
       "      <th>label</th>\n",
       "    </tr>\n",
       "  </thead>\n",
       "  <tbody>\n",
       "    <tr>\n",
       "      <th>0</th>\n",
       "      <td>Jokin only lar... :-) depends on which phone m...</td>\n",
       "      <td>0</td>\n",
       "    </tr>\n",
       "    <tr>\n",
       "      <th>1</th>\n",
       "      <td>No we put party 7 days a week and study lightl...</td>\n",
       "      <td>0</td>\n",
       "    </tr>\n",
       "    <tr>\n",
       "      <th>2</th>\n",
       "      <td>Call me when u're done...</td>\n",
       "      <td>0</td>\n",
       "    </tr>\n",
       "    <tr>\n",
       "      <th>3</th>\n",
       "      <td>What i mean is do they come chase you out when...</td>\n",
       "      <td>0</td>\n",
       "    </tr>\n",
       "    <tr>\n",
       "      <th>4</th>\n",
       "      <td>No break time one... How... I come out n get m...</td>\n",
       "      <td>0</td>\n",
       "    </tr>\n",
       "    <tr>\n",
       "      <th>...</th>\n",
       "      <td>...</td>\n",
       "      <td>...</td>\n",
       "    </tr>\n",
       "    <tr>\n",
       "      <th>8569</th>\n",
       "      <td>Don no da:)whats you plan?</td>\n",
       "      <td>0</td>\n",
       "    </tr>\n",
       "    <tr>\n",
       "      <th>8570</th>\n",
       "      <td>This is my number by vivek..</td>\n",
       "      <td>0</td>\n",
       "    </tr>\n",
       "    <tr>\n",
       "      <th>8571</th>\n",
       "      <td>Prepare to be pounded every night...</td>\n",
       "      <td>0</td>\n",
       "    </tr>\n",
       "    <tr>\n",
       "      <th>8572</th>\n",
       "      <td>Hi da:)how is the todays class?</td>\n",
       "      <td>0</td>\n",
       "    </tr>\n",
       "    <tr>\n",
       "      <th>8573</th>\n",
       "      <td>From fork-admin@xent.com  Wed Sep 18 17:43:35 ...</td>\n",
       "      <td>0</td>\n",
       "    </tr>\n",
       "  </tbody>\n",
       "</table>\n",
       "<p>8574 rows × 2 columns</p>\n",
       "</div>"
      ],
      "text/plain": [
       "                                                message  label\n",
       "0     Jokin only lar... :-) depends on which phone m...      0\n",
       "1     No we put party 7 days a week and study lightl...      0\n",
       "2                             Call me when u're done...      0\n",
       "3     What i mean is do they come chase you out when...      0\n",
       "4     No break time one... How... I come out n get m...      0\n",
       "...                                                 ...    ...\n",
       "8569                         Don no da:)whats you plan?      0\n",
       "8570                       This is my number by vivek..      0\n",
       "8571               Prepare to be pounded every night...      0\n",
       "8572                    Hi da:)how is the todays class?      0\n",
       "8573  From fork-admin@xent.com  Wed Sep 18 17:43:35 ...      0\n",
       "\n",
       "[8574 rows x 2 columns]"
      ]
     },
     "execution_count": 9,
     "metadata": {},
     "output_type": "execute_result"
    }
   ],
   "source": [
    "combined_data"
   ]
  },
  {
   "cell_type": "code",
   "execution_count": 10,
   "metadata": {},
   "outputs": [
    {
     "name": "stdout",
     "output_type": "stream",
     "text": [
      "              precision    recall  f1-score   support\n",
      "\n",
      "           0       0.96      1.00      0.98      2189\n",
      "           1       0.99      0.74      0.85       384\n",
      "\n",
      "    accuracy                           0.96      2573\n",
      "   macro avg       0.97      0.87      0.91      2573\n",
      "weighted avg       0.96      0.96      0.96      2573\n",
      "\n"
     ]
    }
   ],
   "source": [
    "# Split the data into training and testing sets\n",
    "X_train, X_test, y_train, y_test = train_test_split(combined_data['message'], combined_data['label'], test_size=0.3, random_state=42)\n",
    "\n",
    "# Initialize the TF-IDF Vectorizer\n",
    "vectorizer = TfidfVectorizer(stop_words='english')\n",
    "\n",
    "# Fit and transform the training data, and transform the test data\n",
    "X_train_tfidf = vectorizer.fit_transform(X_train)\n",
    "X_test_tfidf = vectorizer.transform(X_test)\n",
    "\n",
    "# Initialize the Logistic Regression classifier\n",
    "model = LogisticRegression(max_iter=1000)\n",
    "\n",
    "# Train the model\n",
    "model.fit(X_train_tfidf, y_train)\n",
    "\n",
    "# Make predictions\n",
    "y_pred = model.predict(X_test_tfidf)\n",
    "\n",
    "# Evaluate the model\n",
    "print(classification_report(y_test, y_pred))"
   ]
  },
  {
   "cell_type": "code",
   "execution_count": 11,
   "metadata": {},
   "outputs": [
    {
     "data": {
      "text/plain": [
       "['tfidf_vectorizer.joblib']"
      ]
     },
     "execution_count": 11,
     "metadata": {},
     "output_type": "execute_result"
    }
   ],
   "source": [
    "# Save the model and the vectorizer\n",
    "joblib.dump(model, 'spam_classifier_model.joblib')\n",
    "joblib.dump(vectorizer, 'tfidf_vectorizer.joblib')"
   ]
  },
  {
   "cell_type": "code",
   "execution_count": 12,
   "metadata": {},
   "outputs": [],
   "source": [
    "# Function to predict if a new message is spam or not\n",
    "def predict_spam(message_content):\n",
    "    # Load the model and vectorizer\n",
    "    model = joblib.load('spam_classifier_model.joblib')\n",
    "    vectorizer = joblib.load('tfidf_vectorizer.joblib')\n",
    "    message_tfidf = vectorizer.transform([message_content])\n",
    "    prediction = model.predict(message_tfidf)\n",
    "    return 'Spam' if prediction[0] == 1 else 'Not Spam'\n"
   ]
  },
  {
   "cell_type": "code",
   "execution_count": 16,
   "metadata": {},
   "outputs": [
    {
     "name": "stdout",
     "output_type": "stream",
     "text": [
      "Spam\n"
     ]
    }
   ],
   "source": [
    "\n",
    "# Example usage\n",
    "new_message = \"Congratulations! You've won a $1,000 Walmart gift card. Click here to claim your prize.\"\n",
    "print(predict_spam(new_message))\n"
   ]
  },
  {
   "cell_type": "code",
   "execution_count": 15,
   "metadata": {},
   "outputs": [
    {
     "name": "stdout",
     "output_type": "stream",
     "text": [
      "Not Spam\n"
     ]
    }
   ],
   "source": [
    "# Example usage\n",
    "new_message = \"Don no da:)whats you plan?\"\n",
    "print(predict_spam(new_message))"
   ]
  }
 ],
 "metadata": {
  "kernelspec": {
   "display_name": "Python 3",
   "language": "python",
   "name": "python3"
  },
  "language_info": {
   "codemirror_mode": {
    "name": "ipython",
    "version": 3
   },
   "file_extension": ".py",
   "mimetype": "text/x-python",
   "name": "python",
   "nbconvert_exporter": "python",
   "pygments_lexer": "ipython3",
   "version": "3.11.7"
  }
 },
 "nbformat": 4,
 "nbformat_minor": 2
}
